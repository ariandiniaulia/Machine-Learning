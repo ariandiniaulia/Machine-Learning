{
  "nbformat": 4,
  "nbformat_minor": 0,
  "metadata": {
    "colab": {
      "provenance": [],
      "mount_file_id": "1zk2YMBGwnJSfMMpqSJI3qyLr_uFsdui1",
      "authorship_tag": "ABX9TyMhFyOn94Xl4sxhCzn79IxE",
      "include_colab_link": true
    },
    "kernelspec": {
      "name": "python3",
      "display_name": "Python 3"
    },
    "language_info": {
      "name": "python"
    }
  },
  "cells": [
    {
      "cell_type": "markdown",
      "metadata": {
        "id": "view-in-github",
        "colab_type": "text"
      },
      "source": [
        "<a href=\"https://colab.research.google.com/github/ariandiniaulia/Machine-Learning/blob/main/Machine_Learning_Final.ipynb\" target=\"_parent\"><img src=\"https://colab.research.google.com/assets/colab-badge.svg\" alt=\"Open In Colab\"/></a>"
      ]
    },
    {
      "cell_type": "code",
      "execution_count": null,
      "metadata": {
        "id": "oKESgojXiM6z"
      },
      "outputs": [],
      "source": [
        "import pandas as pd\n",
        "from sklearn.model_selection import train_test_split\n",
        "import numpy as np\n",
        "import statistics as st\n",
        "import matplotlib.pyplot as plt\n",
        "import seaborn as sns\n",
        "\n",
        "# Read the data\n",
        "data = pd.read_csv('/content/drive/MyDrive/Final Machine Learning/Mall_Customers.csv')"
      ]
    },
    {
      "cell_type": "code",
      "source": [
        "data.head()"
      ],
      "metadata": {
        "colab": {
          "base_uri": "https://localhost:8080/",
          "height": 206
        },
        "id": "ORnVjCDjieXN",
        "outputId": "3dab3612-f5ef-4ddc-e5ae-edc27c01feb0"
      },
      "execution_count": null,
      "outputs": [
        {
          "output_type": "execute_result",
          "data": {
            "text/plain": [
              "   CustomerID  Gender  Age  Annual Income (k$)  Spending Score (1-100)\n",
              "0           1    Male   19                  15                      39\n",
              "1           2    Male   21                  15                      81\n",
              "2           3  Female   20                  16                       6\n",
              "3           4  Female   23                  16                      77\n",
              "4           5  Female   31                  17                      40"
            ],
            "text/html": [
              "\n",
              "  <div id=\"df-d831e242-ecd7-42bb-b601-9b5a71b0c74a\">\n",
              "    <div class=\"colab-df-container\">\n",
              "      <div>\n",
              "<style scoped>\n",
              "    .dataframe tbody tr th:only-of-type {\n",
              "        vertical-align: middle;\n",
              "    }\n",
              "\n",
              "    .dataframe tbody tr th {\n",
              "        vertical-align: top;\n",
              "    }\n",
              "\n",
              "    .dataframe thead th {\n",
              "        text-align: right;\n",
              "    }\n",
              "</style>\n",
              "<table border=\"1\" class=\"dataframe\">\n",
              "  <thead>\n",
              "    <tr style=\"text-align: right;\">\n",
              "      <th></th>\n",
              "      <th>CustomerID</th>\n",
              "      <th>Gender</th>\n",
              "      <th>Age</th>\n",
              "      <th>Annual Income (k$)</th>\n",
              "      <th>Spending Score (1-100)</th>\n",
              "    </tr>\n",
              "  </thead>\n",
              "  <tbody>\n",
              "    <tr>\n",
              "      <th>0</th>\n",
              "      <td>1</td>\n",
              "      <td>Male</td>\n",
              "      <td>19</td>\n",
              "      <td>15</td>\n",
              "      <td>39</td>\n",
              "    </tr>\n",
              "    <tr>\n",
              "      <th>1</th>\n",
              "      <td>2</td>\n",
              "      <td>Male</td>\n",
              "      <td>21</td>\n",
              "      <td>15</td>\n",
              "      <td>81</td>\n",
              "    </tr>\n",
              "    <tr>\n",
              "      <th>2</th>\n",
              "      <td>3</td>\n",
              "      <td>Female</td>\n",
              "      <td>20</td>\n",
              "      <td>16</td>\n",
              "      <td>6</td>\n",
              "    </tr>\n",
              "    <tr>\n",
              "      <th>3</th>\n",
              "      <td>4</td>\n",
              "      <td>Female</td>\n",
              "      <td>23</td>\n",
              "      <td>16</td>\n",
              "      <td>77</td>\n",
              "    </tr>\n",
              "    <tr>\n",
              "      <th>4</th>\n",
              "      <td>5</td>\n",
              "      <td>Female</td>\n",
              "      <td>31</td>\n",
              "      <td>17</td>\n",
              "      <td>40</td>\n",
              "    </tr>\n",
              "  </tbody>\n",
              "</table>\n",
              "</div>\n",
              "      <button class=\"colab-df-convert\" onclick=\"convertToInteractive('df-d831e242-ecd7-42bb-b601-9b5a71b0c74a')\"\n",
              "              title=\"Convert this dataframe to an interactive table.\"\n",
              "              style=\"display:none;\">\n",
              "        \n",
              "  <svg xmlns=\"http://www.w3.org/2000/svg\" height=\"24px\"viewBox=\"0 0 24 24\"\n",
              "       width=\"24px\">\n",
              "    <path d=\"M0 0h24v24H0V0z\" fill=\"none\"/>\n",
              "    <path d=\"M18.56 5.44l.94 2.06.94-2.06 2.06-.94-2.06-.94-.94-2.06-.94 2.06-2.06.94zm-11 1L8.5 8.5l.94-2.06 2.06-.94-2.06-.94L8.5 2.5l-.94 2.06-2.06.94zm10 10l.94 2.06.94-2.06 2.06-.94-2.06-.94-.94-2.06-.94 2.06-2.06.94z\"/><path d=\"M17.41 7.96l-1.37-1.37c-.4-.4-.92-.59-1.43-.59-.52 0-1.04.2-1.43.59L10.3 9.45l-7.72 7.72c-.78.78-.78 2.05 0 2.83L4 21.41c.39.39.9.59 1.41.59.51 0 1.02-.2 1.41-.59l7.78-7.78 2.81-2.81c.8-.78.8-2.07 0-2.86zM5.41 20L4 18.59l7.72-7.72 1.47 1.35L5.41 20z\"/>\n",
              "  </svg>\n",
              "      </button>\n",
              "      \n",
              "  <style>\n",
              "    .colab-df-container {\n",
              "      display:flex;\n",
              "      flex-wrap:wrap;\n",
              "      gap: 12px;\n",
              "    }\n",
              "\n",
              "    .colab-df-convert {\n",
              "      background-color: #E8F0FE;\n",
              "      border: none;\n",
              "      border-radius: 50%;\n",
              "      cursor: pointer;\n",
              "      display: none;\n",
              "      fill: #1967D2;\n",
              "      height: 32px;\n",
              "      padding: 0 0 0 0;\n",
              "      width: 32px;\n",
              "    }\n",
              "\n",
              "    .colab-df-convert:hover {\n",
              "      background-color: #E2EBFA;\n",
              "      box-shadow: 0px 1px 2px rgba(60, 64, 67, 0.3), 0px 1px 3px 1px rgba(60, 64, 67, 0.15);\n",
              "      fill: #174EA6;\n",
              "    }\n",
              "\n",
              "    [theme=dark] .colab-df-convert {\n",
              "      background-color: #3B4455;\n",
              "      fill: #D2E3FC;\n",
              "    }\n",
              "\n",
              "    [theme=dark] .colab-df-convert:hover {\n",
              "      background-color: #434B5C;\n",
              "      box-shadow: 0px 1px 3px 1px rgba(0, 0, 0, 0.15);\n",
              "      filter: drop-shadow(0px 1px 2px rgba(0, 0, 0, 0.3));\n",
              "      fill: #FFFFFF;\n",
              "    }\n",
              "  </style>\n",
              "\n",
              "      <script>\n",
              "        const buttonEl =\n",
              "          document.querySelector('#df-d831e242-ecd7-42bb-b601-9b5a71b0c74a button.colab-df-convert');\n",
              "        buttonEl.style.display =\n",
              "          google.colab.kernel.accessAllowed ? 'block' : 'none';\n",
              "\n",
              "        async function convertToInteractive(key) {\n",
              "          const element = document.querySelector('#df-d831e242-ecd7-42bb-b601-9b5a71b0c74a');\n",
              "          const dataTable =\n",
              "            await google.colab.kernel.invokeFunction('convertToInteractive',\n",
              "                                                     [key], {});\n",
              "          if (!dataTable) return;\n",
              "\n",
              "          const docLinkHtml = 'Like what you see? Visit the ' +\n",
              "            '<a target=\"_blank\" href=https://colab.research.google.com/notebooks/data_table.ipynb>data table notebook</a>'\n",
              "            + ' to learn more about interactive tables.';\n",
              "          element.innerHTML = '';\n",
              "          dataTable['output_type'] = 'display_data';\n",
              "          await google.colab.output.renderOutput(dataTable, element);\n",
              "          const docLink = document.createElement('div');\n",
              "          docLink.innerHTML = docLinkHtml;\n",
              "          element.appendChild(docLink);\n",
              "        }\n",
              "      </script>\n",
              "    </div>\n",
              "  </div>\n",
              "  "
            ]
          },
          "metadata": {},
          "execution_count": 41
        }
      ]
    },
    {
      "cell_type": "code",
      "source": [
        "#mengganti nama kolom\n",
        "data.sort_index(inplace=True)\n",
        "df = data.rename(columns = {\"Annual Income (k$)\": \"AnnualIncome\", \"Spending Score (1-100)\": \"SpendingScore\"})"
      ],
      "metadata": {
        "id": "T5eeZaXDjDYb"
      },
      "execution_count": null,
      "outputs": []
    },
    {
      "cell_type": "code",
      "source": [
        "df.head()"
      ],
      "metadata": {
        "colab": {
          "base_uri": "https://localhost:8080/",
          "height": 206
        },
        "id": "cnhIkmdvjFAI",
        "outputId": "8b7873b4-12d5-4620-c60a-3b8ee207ccc8"
      },
      "execution_count": null,
      "outputs": [
        {
          "output_type": "execute_result",
          "data": {
            "text/plain": [
              "   CustomerID  Gender  Age  AnnualIncome  SpendingScore\n",
              "0           1    Male   19            15             39\n",
              "1           2    Male   21            15             81\n",
              "2           3  Female   20            16              6\n",
              "3           4  Female   23            16             77\n",
              "4           5  Female   31            17             40"
            ],
            "text/html": [
              "\n",
              "  <div id=\"df-9541fd59-4813-426e-9c25-d30fd12b3ca9\">\n",
              "    <div class=\"colab-df-container\">\n",
              "      <div>\n",
              "<style scoped>\n",
              "    .dataframe tbody tr th:only-of-type {\n",
              "        vertical-align: middle;\n",
              "    }\n",
              "\n",
              "    .dataframe tbody tr th {\n",
              "        vertical-align: top;\n",
              "    }\n",
              "\n",
              "    .dataframe thead th {\n",
              "        text-align: right;\n",
              "    }\n",
              "</style>\n",
              "<table border=\"1\" class=\"dataframe\">\n",
              "  <thead>\n",
              "    <tr style=\"text-align: right;\">\n",
              "      <th></th>\n",
              "      <th>CustomerID</th>\n",
              "      <th>Gender</th>\n",
              "      <th>Age</th>\n",
              "      <th>AnnualIncome</th>\n",
              "      <th>SpendingScore</th>\n",
              "    </tr>\n",
              "  </thead>\n",
              "  <tbody>\n",
              "    <tr>\n",
              "      <th>0</th>\n",
              "      <td>1</td>\n",
              "      <td>Male</td>\n",
              "      <td>19</td>\n",
              "      <td>15</td>\n",
              "      <td>39</td>\n",
              "    </tr>\n",
              "    <tr>\n",
              "      <th>1</th>\n",
              "      <td>2</td>\n",
              "      <td>Male</td>\n",
              "      <td>21</td>\n",
              "      <td>15</td>\n",
              "      <td>81</td>\n",
              "    </tr>\n",
              "    <tr>\n",
              "      <th>2</th>\n",
              "      <td>3</td>\n",
              "      <td>Female</td>\n",
              "      <td>20</td>\n",
              "      <td>16</td>\n",
              "      <td>6</td>\n",
              "    </tr>\n",
              "    <tr>\n",
              "      <th>3</th>\n",
              "      <td>4</td>\n",
              "      <td>Female</td>\n",
              "      <td>23</td>\n",
              "      <td>16</td>\n",
              "      <td>77</td>\n",
              "    </tr>\n",
              "    <tr>\n",
              "      <th>4</th>\n",
              "      <td>5</td>\n",
              "      <td>Female</td>\n",
              "      <td>31</td>\n",
              "      <td>17</td>\n",
              "      <td>40</td>\n",
              "    </tr>\n",
              "  </tbody>\n",
              "</table>\n",
              "</div>\n",
              "      <button class=\"colab-df-convert\" onclick=\"convertToInteractive('df-9541fd59-4813-426e-9c25-d30fd12b3ca9')\"\n",
              "              title=\"Convert this dataframe to an interactive table.\"\n",
              "              style=\"display:none;\">\n",
              "        \n",
              "  <svg xmlns=\"http://www.w3.org/2000/svg\" height=\"24px\"viewBox=\"0 0 24 24\"\n",
              "       width=\"24px\">\n",
              "    <path d=\"M0 0h24v24H0V0z\" fill=\"none\"/>\n",
              "    <path d=\"M18.56 5.44l.94 2.06.94-2.06 2.06-.94-2.06-.94-.94-2.06-.94 2.06-2.06.94zm-11 1L8.5 8.5l.94-2.06 2.06-.94-2.06-.94L8.5 2.5l-.94 2.06-2.06.94zm10 10l.94 2.06.94-2.06 2.06-.94-2.06-.94-.94-2.06-.94 2.06-2.06.94z\"/><path d=\"M17.41 7.96l-1.37-1.37c-.4-.4-.92-.59-1.43-.59-.52 0-1.04.2-1.43.59L10.3 9.45l-7.72 7.72c-.78.78-.78 2.05 0 2.83L4 21.41c.39.39.9.59 1.41.59.51 0 1.02-.2 1.41-.59l7.78-7.78 2.81-2.81c.8-.78.8-2.07 0-2.86zM5.41 20L4 18.59l7.72-7.72 1.47 1.35L5.41 20z\"/>\n",
              "  </svg>\n",
              "      </button>\n",
              "      \n",
              "  <style>\n",
              "    .colab-df-container {\n",
              "      display:flex;\n",
              "      flex-wrap:wrap;\n",
              "      gap: 12px;\n",
              "    }\n",
              "\n",
              "    .colab-df-convert {\n",
              "      background-color: #E8F0FE;\n",
              "      border: none;\n",
              "      border-radius: 50%;\n",
              "      cursor: pointer;\n",
              "      display: none;\n",
              "      fill: #1967D2;\n",
              "      height: 32px;\n",
              "      padding: 0 0 0 0;\n",
              "      width: 32px;\n",
              "    }\n",
              "\n",
              "    .colab-df-convert:hover {\n",
              "      background-color: #E2EBFA;\n",
              "      box-shadow: 0px 1px 2px rgba(60, 64, 67, 0.3), 0px 1px 3px 1px rgba(60, 64, 67, 0.15);\n",
              "      fill: #174EA6;\n",
              "    }\n",
              "\n",
              "    [theme=dark] .colab-df-convert {\n",
              "      background-color: #3B4455;\n",
              "      fill: #D2E3FC;\n",
              "    }\n",
              "\n",
              "    [theme=dark] .colab-df-convert:hover {\n",
              "      background-color: #434B5C;\n",
              "      box-shadow: 0px 1px 3px 1px rgba(0, 0, 0, 0.15);\n",
              "      filter: drop-shadow(0px 1px 2px rgba(0, 0, 0, 0.3));\n",
              "      fill: #FFFFFF;\n",
              "    }\n",
              "  </style>\n",
              "\n",
              "      <script>\n",
              "        const buttonEl =\n",
              "          document.querySelector('#df-9541fd59-4813-426e-9c25-d30fd12b3ca9 button.colab-df-convert');\n",
              "        buttonEl.style.display =\n",
              "          google.colab.kernel.accessAllowed ? 'block' : 'none';\n",
              "\n",
              "        async function convertToInteractive(key) {\n",
              "          const element = document.querySelector('#df-9541fd59-4813-426e-9c25-d30fd12b3ca9');\n",
              "          const dataTable =\n",
              "            await google.colab.kernel.invokeFunction('convertToInteractive',\n",
              "                                                     [key], {});\n",
              "          if (!dataTable) return;\n",
              "\n",
              "          const docLinkHtml = 'Like what you see? Visit the ' +\n",
              "            '<a target=\"_blank\" href=https://colab.research.google.com/notebooks/data_table.ipynb>data table notebook</a>'\n",
              "            + ' to learn more about interactive tables.';\n",
              "          element.innerHTML = '';\n",
              "          dataTable['output_type'] = 'display_data';\n",
              "          await google.colab.output.renderOutput(dataTable, element);\n",
              "          const docLink = document.createElement('div');\n",
              "          docLink.innerHTML = docLinkHtml;\n",
              "          element.appendChild(docLink);\n",
              "        }\n",
              "      </script>\n",
              "    </div>\n",
              "  </div>\n",
              "  "
            ]
          },
          "metadata": {},
          "execution_count": 43
        }
      ]
    },
    {
      "cell_type": "code",
      "source": [
        "df.info()"
      ],
      "metadata": {
        "colab": {
          "base_uri": "https://localhost:8080/"
        },
        "id": "zvkVYeNgl-lR",
        "outputId": "3370da30-61a3-49ec-aed4-11575dc8b543"
      },
      "execution_count": null,
      "outputs": [
        {
          "output_type": "stream",
          "name": "stdout",
          "text": [
            "<class 'pandas.core.frame.DataFrame'>\n",
            "RangeIndex: 200 entries, 0 to 199\n",
            "Data columns (total 5 columns):\n",
            " #   Column         Non-Null Count  Dtype \n",
            "---  ------         --------------  ----- \n",
            " 0   CustomerID     200 non-null    int64 \n",
            " 1   Gender         200 non-null    object\n",
            " 2   Age            200 non-null    int64 \n",
            " 3   AnnualIncome   200 non-null    int64 \n",
            " 4   SpendingScore  200 non-null    int64 \n",
            "dtypes: int64(4), object(1)\n",
            "memory usage: 7.9+ KB\n"
          ]
        }
      ]
    },
    {
      "cell_type": "markdown",
      "source": [
        "Mengecek kolom yang null"
      ],
      "metadata": {
        "id": "ikdTLX7KvHo_"
      }
    },
    {
      "cell_type": "code",
      "source": [
        "null_col = df.columns[df.isna().sum()>0].to_list() \n",
        "null_col"
      ],
      "metadata": {
        "colab": {
          "base_uri": "https://localhost:8080/"
        },
        "id": "cKOgZsiwvL6c",
        "outputId": "a7bde34b-5ded-436a-c528-5c8e7c521279"
      },
      "execution_count": null,
      "outputs": [
        {
          "output_type": "execute_result",
          "data": {
            "text/plain": [
              "[]"
            ]
          },
          "metadata": {},
          "execution_count": 45
        }
      ]
    },
    {
      "cell_type": "markdown",
      "source": [
        "Kita mulai dengan memuat data pelatihan dan validasi di X_train, X_valid, y_train, dan y_valid."
      ],
      "metadata": {
        "id": "3QwhlTj4jYZK"
      }
    },
    {
      "cell_type": "code",
      "source": [
        "# Select subset of predictors\n",
        "cols_to_use = ['Gender', 'Age', 'AnnualIncome']\n",
        "x = df[cols_to_use]\n",
        "\n",
        "# Select target\n",
        "y = df.SpendingScore"
      ],
      "metadata": {
        "id": "Zkk6Waj-ihoJ"
      },
      "execution_count": null,
      "outputs": []
    },
    {
      "cell_type": "code",
      "source": [
        "print(x)"
      ],
      "metadata": {
        "colab": {
          "base_uri": "https://localhost:8080/"
        },
        "id": "v8rQfiyr77vO",
        "outputId": "9d6a5fdc-c847-46bf-96f3-966748eaec54"
      },
      "execution_count": null,
      "outputs": [
        {
          "output_type": "stream",
          "name": "stdout",
          "text": [
            "     Gender  Age  AnnualIncome\n",
            "0      Male   19            15\n",
            "1      Male   21            15\n",
            "2    Female   20            16\n",
            "3    Female   23            16\n",
            "4    Female   31            17\n",
            "..      ...  ...           ...\n",
            "195  Female   35           120\n",
            "196  Female   45           126\n",
            "197    Male   32           126\n",
            "198    Male   32           137\n",
            "199    Male   30           137\n",
            "\n",
            "[200 rows x 3 columns]\n"
          ]
        }
      ]
    },
    {
      "cell_type": "code",
      "source": [
        "print(y)"
      ],
      "metadata": {
        "colab": {
          "base_uri": "https://localhost:8080/"
        },
        "id": "qh9PgPyq8vZB",
        "outputId": "0bb58412-b137-42cd-e06a-a458e3f4d152"
      },
      "execution_count": null,
      "outputs": [
        {
          "output_type": "stream",
          "name": "stdout",
          "text": [
            "0      39\n",
            "1      81\n",
            "2       6\n",
            "3      77\n",
            "4      40\n",
            "       ..\n",
            "195    79\n",
            "196    28\n",
            "197    74\n",
            "198    18\n",
            "199    83\n",
            "Name: SpendingScore, Length: 200, dtype: int64\n"
          ]
        }
      ]
    },
    {
      "cell_type": "markdown",
      "source": [
        "One Hot Encoding"
      ],
      "metadata": {
        "id": "p39uC-7roknA"
      }
    },
    {
      "cell_type": "markdown",
      "source": [
        "merepresentasikan data bertipe kategori sebagai vektor biner yang bernilai integer, 0 dan 1, dimana 0 = Female, 1 = Male"
      ],
      "metadata": {
        "id": "gWUD4zJVqP1k"
      }
    },
    {
      "cell_type": "code",
      "source": [
        "from sklearn.compose import ColumnTransformer\n",
        "from sklearn.preprocessing import OneHotEncoder\n",
        "\n",
        "coltras = ColumnTransformer(transformers=[('encoder', OneHotEncoder(),[0])],remainder='passthrough')\n",
        "X = np.array(coltras.fit_transform(x))\n",
        "print(X)"
      ],
      "metadata": {
        "colab": {
          "base_uri": "https://localhost:8080/"
        },
        "id": "zGc3KFNekdKg",
        "outputId": "49bb2061-aecd-4693-d5ec-19c9deaa9ff6"
      },
      "execution_count": null,
      "outputs": [
        {
          "output_type": "stream",
          "name": "stdout",
          "text": [
            "[[  0.   1.  19.  15.]\n",
            " [  0.   1.  21.  15.]\n",
            " [  1.   0.  20.  16.]\n",
            " [  1.   0.  23.  16.]\n",
            " [  1.   0.  31.  17.]\n",
            " [  1.   0.  22.  17.]\n",
            " [  1.   0.  35.  18.]\n",
            " [  1.   0.  23.  18.]\n",
            " [  0.   1.  64.  19.]\n",
            " [  1.   0.  30.  19.]\n",
            " [  0.   1.  67.  19.]\n",
            " [  1.   0.  35.  19.]\n",
            " [  1.   0.  58.  20.]\n",
            " [  1.   0.  24.  20.]\n",
            " [  0.   1.  37.  20.]\n",
            " [  0.   1.  22.  20.]\n",
            " [  1.   0.  35.  21.]\n",
            " [  0.   1.  20.  21.]\n",
            " [  0.   1.  52.  23.]\n",
            " [  1.   0.  35.  23.]\n",
            " [  0.   1.  35.  24.]\n",
            " [  0.   1.  25.  24.]\n",
            " [  1.   0.  46.  25.]\n",
            " [  0.   1.  31.  25.]\n",
            " [  1.   0.  54.  28.]\n",
            " [  0.   1.  29.  28.]\n",
            " [  1.   0.  45.  28.]\n",
            " [  0.   1.  35.  28.]\n",
            " [  1.   0.  40.  29.]\n",
            " [  1.   0.  23.  29.]\n",
            " [  0.   1.  60.  30.]\n",
            " [  1.   0.  21.  30.]\n",
            " [  0.   1.  53.  33.]\n",
            " [  0.   1.  18.  33.]\n",
            " [  1.   0.  49.  33.]\n",
            " [  1.   0.  21.  33.]\n",
            " [  1.   0.  42.  34.]\n",
            " [  1.   0.  30.  34.]\n",
            " [  1.   0.  36.  37.]\n",
            " [  1.   0.  20.  37.]\n",
            " [  1.   0.  65.  38.]\n",
            " [  0.   1.  24.  38.]\n",
            " [  0.   1.  48.  39.]\n",
            " [  1.   0.  31.  39.]\n",
            " [  1.   0.  49.  39.]\n",
            " [  1.   0.  24.  39.]\n",
            " [  1.   0.  50.  40.]\n",
            " [  1.   0.  27.  40.]\n",
            " [  1.   0.  29.  40.]\n",
            " [  1.   0.  31.  40.]\n",
            " [  1.   0.  49.  42.]\n",
            " [  0.   1.  33.  42.]\n",
            " [  1.   0.  31.  43.]\n",
            " [  0.   1.  59.  43.]\n",
            " [  1.   0.  50.  43.]\n",
            " [  0.   1.  47.  43.]\n",
            " [  1.   0.  51.  44.]\n",
            " [  0.   1.  69.  44.]\n",
            " [  1.   0.  27.  46.]\n",
            " [  0.   1.  53.  46.]\n",
            " [  0.   1.  70.  46.]\n",
            " [  0.   1.  19.  46.]\n",
            " [  1.   0.  67.  47.]\n",
            " [  1.   0.  54.  47.]\n",
            " [  0.   1.  63.  48.]\n",
            " [  0.   1.  18.  48.]\n",
            " [  1.   0.  43.  48.]\n",
            " [  1.   0.  68.  48.]\n",
            " [  0.   1.  19.  48.]\n",
            " [  1.   0.  32.  48.]\n",
            " [  0.   1.  70.  49.]\n",
            " [  1.   0.  47.  49.]\n",
            " [  1.   0.  60.  50.]\n",
            " [  1.   0.  60.  50.]\n",
            " [  0.   1.  59.  54.]\n",
            " [  0.   1.  26.  54.]\n",
            " [  1.   0.  45.  54.]\n",
            " [  0.   1.  40.  54.]\n",
            " [  1.   0.  23.  54.]\n",
            " [  1.   0.  49.  54.]\n",
            " [  0.   1.  57.  54.]\n",
            " [  0.   1.  38.  54.]\n",
            " [  0.   1.  67.  54.]\n",
            " [  1.   0.  46.  54.]\n",
            " [  1.   0.  21.  54.]\n",
            " [  0.   1.  48.  54.]\n",
            " [  1.   0.  55.  57.]\n",
            " [  1.   0.  22.  57.]\n",
            " [  1.   0.  34.  58.]\n",
            " [  1.   0.  50.  58.]\n",
            " [  1.   0.  68.  59.]\n",
            " [  0.   1.  18.  59.]\n",
            " [  0.   1.  48.  60.]\n",
            " [  1.   0.  40.  60.]\n",
            " [  1.   0.  32.  60.]\n",
            " [  0.   1.  24.  60.]\n",
            " [  1.   0.  47.  60.]\n",
            " [  1.   0.  27.  60.]\n",
            " [  0.   1.  48.  61.]\n",
            " [  0.   1.  20.  61.]\n",
            " [  1.   0.  23.  62.]\n",
            " [  1.   0.  49.  62.]\n",
            " [  0.   1.  67.  62.]\n",
            " [  0.   1.  26.  62.]\n",
            " [  0.   1.  49.  62.]\n",
            " [  1.   0.  21.  62.]\n",
            " [  1.   0.  66.  63.]\n",
            " [  0.   1.  54.  63.]\n",
            " [  0.   1.  68.  63.]\n",
            " [  0.   1.  66.  63.]\n",
            " [  0.   1.  65.  63.]\n",
            " [  1.   0.  19.  63.]\n",
            " [  1.   0.  38.  64.]\n",
            " [  0.   1.  19.  64.]\n",
            " [  1.   0.  18.  65.]\n",
            " [  1.   0.  19.  65.]\n",
            " [  1.   0.  63.  65.]\n",
            " [  1.   0.  49.  65.]\n",
            " [  1.   0.  51.  67.]\n",
            " [  1.   0.  50.  67.]\n",
            " [  0.   1.  27.  67.]\n",
            " [  1.   0.  38.  67.]\n",
            " [  1.   0.  40.  69.]\n",
            " [  0.   1.  39.  69.]\n",
            " [  1.   0.  23.  70.]\n",
            " [  1.   0.  31.  70.]\n",
            " [  0.   1.  43.  71.]\n",
            " [  0.   1.  40.  71.]\n",
            " [  0.   1.  59.  71.]\n",
            " [  0.   1.  38.  71.]\n",
            " [  0.   1.  47.  71.]\n",
            " [  0.   1.  39.  71.]\n",
            " [  1.   0.  25.  72.]\n",
            " [  1.   0.  31.  72.]\n",
            " [  0.   1.  20.  73.]\n",
            " [  1.   0.  29.  73.]\n",
            " [  1.   0.  44.  73.]\n",
            " [  0.   1.  32.  73.]\n",
            " [  0.   1.  19.  74.]\n",
            " [  1.   0.  35.  74.]\n",
            " [  1.   0.  57.  75.]\n",
            " [  0.   1.  32.  75.]\n",
            " [  1.   0.  28.  76.]\n",
            " [  1.   0.  32.  76.]\n",
            " [  0.   1.  25.  77.]\n",
            " [  0.   1.  28.  77.]\n",
            " [  0.   1.  48.  77.]\n",
            " [  1.   0.  32.  77.]\n",
            " [  1.   0.  34.  78.]\n",
            " [  0.   1.  34.  78.]\n",
            " [  0.   1.  43.  78.]\n",
            " [  0.   1.  39.  78.]\n",
            " [  1.   0.  44.  78.]\n",
            " [  1.   0.  38.  78.]\n",
            " [  1.   0.  47.  78.]\n",
            " [  1.   0.  27.  78.]\n",
            " [  0.   1.  37.  78.]\n",
            " [  1.   0.  30.  78.]\n",
            " [  0.   1.  34.  78.]\n",
            " [  1.   0.  30.  78.]\n",
            " [  1.   0.  56.  79.]\n",
            " [  1.   0.  29.  79.]\n",
            " [  0.   1.  19.  81.]\n",
            " [  1.   0.  31.  81.]\n",
            " [  0.   1.  50.  85.]\n",
            " [  1.   0.  36.  85.]\n",
            " [  0.   1.  42.  86.]\n",
            " [  1.   0.  33.  86.]\n",
            " [  1.   0.  36.  87.]\n",
            " [  0.   1.  32.  87.]\n",
            " [  0.   1.  40.  87.]\n",
            " [  0.   1.  28.  87.]\n",
            " [  0.   1.  36.  87.]\n",
            " [  0.   1.  36.  87.]\n",
            " [  1.   0.  52.  88.]\n",
            " [  1.   0.  30.  88.]\n",
            " [  0.   1.  58.  88.]\n",
            " [  0.   1.  27.  88.]\n",
            " [  0.   1.  59.  93.]\n",
            " [  0.   1.  35.  93.]\n",
            " [  1.   0.  37.  97.]\n",
            " [  1.   0.  32.  97.]\n",
            " [  0.   1.  46.  98.]\n",
            " [  1.   0.  29.  98.]\n",
            " [  1.   0.  41.  99.]\n",
            " [  0.   1.  30.  99.]\n",
            " [  1.   0.  54. 101.]\n",
            " [  0.   1.  28. 101.]\n",
            " [  1.   0.  41. 103.]\n",
            " [  1.   0.  36. 103.]\n",
            " [  1.   0.  34. 103.]\n",
            " [  1.   0.  32. 103.]\n",
            " [  0.   1.  33. 113.]\n",
            " [  1.   0.  38. 113.]\n",
            " [  1.   0.  47. 120.]\n",
            " [  1.   0.  35. 120.]\n",
            " [  1.   0.  45. 126.]\n",
            " [  0.   1.  32. 126.]\n",
            " [  0.   1.  32. 137.]\n",
            " [  0.   1.  30. 137.]]\n"
          ]
        }
      ]
    },
    {
      "cell_type": "code",
      "source": [
        "# Separate data into training and validation sets\n",
        "X_train, X_valid, y_train, y_valid = train_test_split(X,y, test_size=0.2, random_state=0)"
      ],
      "metadata": {
        "id": "YdguJRiLliwp"
      },
      "execution_count": null,
      "outputs": []
    },
    {
      "cell_type": "markdown",
      "source": [
        "Data exploration"
      ],
      "metadata": {
        "id": "rl_09-K2vT9Q"
      }
    },
    {
      "cell_type": "code",
      "source": [
        "corr = df.corr()"
      ],
      "metadata": {
        "id": "AjcotKhRvW1F"
      },
      "execution_count": null,
      "outputs": []
    },
    {
      "cell_type": "code",
      "source": [
        "plt.figure(figsize=(10,8))\n",
        "sns.heatmap(corr)"
      ],
      "metadata": {
        "colab": {
          "base_uri": "https://localhost:8080/",
          "height": 505
        },
        "id": "vtBjlv56vmKZ",
        "outputId": "04334af0-523e-4615-95e8-867602b9bdc7"
      },
      "execution_count": null,
      "outputs": [
        {
          "output_type": "execute_result",
          "data": {
            "text/plain": [
              "<matplotlib.axes._subplots.AxesSubplot at 0x7f627bf97a60>"
            ]
          },
          "metadata": {},
          "execution_count": 52
        },
        {
          "output_type": "display_data",
          "data": {
            "text/plain": [
              "<Figure size 720x576 with 2 Axes>"
            ],
            "image/png": "[encoded data removed]"
          },
          "metadata": {
            "needs_background": "light"
          }
        }
      ]
    },
    {
      "cell_type": "markdown",
      "source": [
        "# Multi-Linear Regression"
      ],
      "metadata": {
        "id": "EbRV_ej1ySi9"
      }
    },
    {
      "cell_type": "markdown",
      "source": [
        "Multi Linear Regression sama seperti linear regression, tetapi dengan lebih dari satu nilai independen, artinya mencoba memprediksi nilai berdasarkan dua variabel atau lebih."
      ],
      "metadata": {
        "id": "m3qAQAKwymsI"
      }
    },
    {
      "cell_type": "code",
      "source": [
        "from sklearn.linear_model import LinearRegression\n",
        "model_LR = LinearRegression()\n",
        "model_LR.fit(X_train,y_train)\n",
        "pred_LR = model_LR.predict(X_valid)\n",
        "model_LR.score(X_train,y_train)"
      ],
      "metadata": {
        "colab": {
          "base_uri": "https://localhost:8080/"
        },
        "id": "vDc3xVwazP9p",
        "outputId": "f042b0b0-f43a-48f8-af08-aeaee3f7fbfb"
      },
      "execution_count": null,
      "outputs": [
        {
          "output_type": "execute_result",
          "data": {
            "text/plain": [
              "0.08414545968839726"
            ]
          },
          "metadata": {},
          "execution_count": 53
        }
      ]
    },
    {
      "cell_type": "markdown",
      "source": [
        "# XGBoost"
      ],
      "metadata": {
        "id": "QidGXVlejocY"
      }
    },
    {
      "cell_type": "markdown",
      "source": [
        "XGBoost adalah singkatan dari extreme gradient boosting, yang merupakan implementasi dari gradient boosting dengan beberapa fitur tambahan yang berfokus pada performa dan kecepatan."
      ],
      "metadata": {
        "id": "y0pPu4r7jrLs"
      }
    },
    {
      "cell_type": "code",
      "source": [
        "from xgboost import XGBRegressor\n",
        "\n",
        "my_model = XGBRegressor()\n",
        "my_model.fit(X_train, y_train)"
      ],
      "metadata": {
        "colab": {
          "base_uri": "https://localhost:8080/"
        },
        "id": "VEo1_C7Jj4RK",
        "outputId": "4c3b8721-4c5c-4e40-efb6-e223451d2841"
      },
      "execution_count": null,
      "outputs": [
        {
          "output_type": "stream",
          "name": "stdout",
          "text": [
            "[07:49:13] WARNING: /workspace/src/objective/regression_obj.cu:152: reg:linear is now deprecated in favor of reg:squarederror.\n"
          ]
        },
        {
          "output_type": "execute_result",
          "data": {
            "text/plain": [
              "XGBRegressor()"
            ]
          },
          "metadata": {},
          "execution_count": 54
        }
      ]
    },
    {
      "cell_type": "markdown",
      "source": [
        "prediksi dan mengevaluasi model"
      ],
      "metadata": {
        "id": "AUTwYge1qrWB"
      }
    },
    {
      "cell_type": "code",
      "source": [
        "from sklearn.metrics import mean_absolute_error\n",
        "\n",
        "predictions = my_model.predict(X_valid)\n",
        "print(\"Mean Absolute Error: \" + str(mean_absolute_error(predictions, y_valid)))"
      ],
      "metadata": {
        "colab": {
          "base_uri": "https://localhost:8080/"
        },
        "id": "gt34TuKnqvk6",
        "outputId": "b36f6757-6236-4bb0-a7b5-915adee18ad6"
      },
      "execution_count": null,
      "outputs": [
        {
          "output_type": "stream",
          "name": "stdout",
          "text": [
            "Mean Absolute Error: 12.383893680572509\n"
          ]
        }
      ]
    },
    {
      "cell_type": "code",
      "source": [
        "model_xgb = XGBRegressor(booster = \"gbtree\",tree_method=\"hist\" ,n_estimators=512,max_depth = 32)\n",
        "model_xgb.fit(X_train,y_train)"
      ],
      "metadata": {
        "colab": {
          "base_uri": "https://localhost:8080/"
        },
        "id": "Jn95gTDmzowm",
        "outputId": "1e7e135a-a787-4466-93e4-9636ef07664b"
      },
      "execution_count": null,
      "outputs": [
        {
          "output_type": "stream",
          "name": "stdout",
          "text": [
            "[07:49:13] WARNING: /workspace/src/objective/regression_obj.cu:152: reg:linear is now deprecated in favor of reg:squarederror.\n"
          ]
        },
        {
          "output_type": "execute_result",
          "data": {
            "text/plain": [
              "XGBRegressor(max_depth=32, n_estimators=512, tree_method='hist')"
            ]
          },
          "metadata": {},
          "execution_count": 56
        }
      ]
    },
    {
      "cell_type": "code",
      "source": [
        "model_xgb.score(X_train,y_train)"
      ],
      "metadata": {
        "colab": {
          "base_uri": "https://localhost:8080/"
        },
        "id": "4HCIhPxqztKr",
        "outputId": "f6889a2e-20b3-49ff-c19e-b6b0f733736b"
      },
      "execution_count": null,
      "outputs": [
        {
          "output_type": "execute_result",
          "data": {
            "text/plain": [
              "0.9127369733992536"
            ]
          },
          "metadata": {},
          "execution_count": 57
        }
      ]
    },
    {
      "cell_type": "code",
      "source": [
        "pred_XGB = model_xgb.predict(X_valid)"
      ],
      "metadata": {
        "id": "6zIDtQxpz3aj"
      },
      "execution_count": null,
      "outputs": []
    }
  ]
}